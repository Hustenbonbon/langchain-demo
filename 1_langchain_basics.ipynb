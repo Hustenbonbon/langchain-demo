{
 "cells": [
  {
   "cell_type": "markdown",
   "id": "e218d63d-0e47-4ad3-90ef-03d085ffa77f",
   "metadata": {},
   "source": [
    "# 🦜🔗 Langchain Demo"
   ]
  },
  {
   "cell_type": "code",
   "execution_count": null,
   "id": "f051dad0-71d4-4c77-a382-037ffe7e6f32",
   "metadata": {
    "scrolled": true
   },
   "outputs": [],
   "source": [
    "!pip install -r requirements.txt"
   ]
  },
  {
   "cell_type": "markdown",
   "id": "e9ab7ed6-9ab1-449c-bd8d-26da0422472b",
   "metadata": {},
   "source": [
    "Load the api key from the .env file. "
   ]
  },
  {
   "cell_type": "code",
   "execution_count": null,
   "id": "9c066b0f-3a32-457b-a73f-471b4c74e9c4",
   "metadata": {},
   "outputs": [],
   "source": [
    "from dotenv import load_dotenv\n",
    "\n",
    "load_dotenv()"
   ]
  },
  {
   "cell_type": "markdown",
   "id": "cc660189-9ee6-45b6-80f6-95abcdf0b145",
   "metadata": {},
   "source": [
    "Let OpenAi predict what should come next."
   ]
  },
  {
   "cell_type": "code",
   "execution_count": null,
   "id": "3ac177b4-e0fa-460a-9a79-d7c6cc7bb8c8",
   "metadata": {},
   "outputs": [],
   "source": [
    "from langchain.llms import OpenAI\n",
    "llm = ChatOpenAI()\n",
    "llm.predict(\"Hi OpenAI! Kannst Du mir gerade mal einen plattdeutschen Trinkspruch kreiren?\")"
   ]
  },
  {
   "cell_type": "code",
   "execution_count": null,
   "id": "3fd72dfa-3212-4b4a-a9b3-a2993c9c0b68",
   "metadata": {},
   "outputs": [],
   "source": [
    "from langchain.prompts import PromptTemplate\n",
    "\n",
    "prompt = PromptTemplate(\n",
    "    input_variables=[\"ort\", \"beruf\"],\n",
    "    template=\"Du bist ein {beruf} aus Sankt Pauli. Erklär in 2 Sätzen in hamburger dialekt warum Deine Kunden aus {ort} die besten sind.\",\n",
    ")\n",
    "\n",
    "from langchain.chains import LLMChain\n",
    "chain = LLMChain(llm=llm, prompt=prompt)\n",
    "\n",
    "print(chain.run({\n",
    "    'beruf': \"Bäcker\",\n",
    "    'ort': \"Pinneberg\"\n",
    "    }))\n"
   ]
  },
  {
   "cell_type": "markdown",
   "id": "a71f18e1-6ed7-4f05-a47f-ba552f8b39f2",
   "metadata": {},
   "source": [
    "Gerne selbst probieren, was da noch geht."
   ]
  },
  {
   "cell_type": "code",
   "execution_count": null,
   "id": "9186897d-df7a-4149-afd3-510ebdd911e4",
   "metadata": {},
   "outputs": [],
   "source": [
    "print(chain.run({\n",
    "    'beruf': \"Koberer\",\n",
    "    'ort': \"Bergedorf\"\n",
    "    }))"
   ]
  },
  {
   "cell_type": "code",
   "execution_count": null,
   "id": "1bee425a-9918-462c-8fb1-ebb492033cec",
   "metadata": {},
   "outputs": [],
   "source": []
  },
  {
   "cell_type": "code",
   "execution_count": null,
   "id": "0f8365d7-1977-4b17-a824-509dd2eeaea2",
   "metadata": {},
   "outputs": [],
   "source": []
  }
 ],
 "metadata": {
  "kernelspec": {
   "display_name": "Python 3 (ipykernel)",
   "language": "python",
   "name": "python3"
  },
  "language_info": {
   "codemirror_mode": {
    "name": "ipython",
    "version": 3
   },
   "file_extension": ".py",
   "mimetype": "text/x-python",
   "name": "python",
   "nbconvert_exporter": "python",
   "pygments_lexer": "ipython3",
   "version": "3.11.5"
  }
 },
 "nbformat": 4,
 "nbformat_minor": 5
}
