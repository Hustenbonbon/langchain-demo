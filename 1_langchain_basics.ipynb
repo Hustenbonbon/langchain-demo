{
 "cells": [
  {
   "cell_type": "markdown",
   "id": "e218d63d-0e47-4ad3-90ef-03d085ffa77f",
   "metadata": {},
   "source": [
    "# 🦜🔗 Langchain Demo\n",
    "\n",
    "Welcome! This example will give you a first look at langchain. "
   ]
  },
  {
   "cell_type": "code",
   "execution_count": 1,
   "id": "f051dad0-71d4-4c77-a382-037ffe7e6f32",
   "metadata": {
    "scrolled": true
   },
   "outputs": [
    {
     "name": "stdout",
     "output_type": "stream",
     "text": [
      "Requirement already satisfied: langchain in /opt/homebrew/Caskroom/miniconda/base/envs/bot-test/lib/python3.11/site-packages (from -r requirements.txt (line 1)) (0.0.286)\n",
      "Requirement already satisfied: langchain-experimental in /opt/homebrew/Caskroom/miniconda/base/envs/bot-test/lib/python3.11/site-packages (from -r requirements.txt (line 2)) (0.0.17)\n",
      "Requirement already satisfied: openai in /opt/homebrew/Caskroom/miniconda/base/envs/bot-test/lib/python3.11/site-packages (from -r requirements.txt (line 3)) (0.28.0)\n",
      "Requirement already satisfied: python-dotenv in /opt/homebrew/Caskroom/miniconda/base/envs/bot-test/lib/python3.11/site-packages (from -r requirements.txt (line 4)) (1.0.0)\n",
      "Requirement already satisfied: google-search-results in /opt/homebrew/Caskroom/miniconda/base/envs/bot-test/lib/python3.11/site-packages (from -r requirements.txt (line 5)) (2.4.2)\n",
      "Requirement already satisfied: faiss-cpu in /opt/homebrew/Caskroom/miniconda/base/envs/bot-test/lib/python3.11/site-packages (from -r requirements.txt (line 6)) (1.7.4)\n",
      "Requirement already satisfied: pypdf in /opt/homebrew/Caskroom/miniconda/base/envs/bot-test/lib/python3.11/site-packages (from -r requirements.txt (line 7)) (3.16.1)\n",
      "Requirement already satisfied: tqdm in /opt/homebrew/Caskroom/miniconda/base/envs/bot-test/lib/python3.11/site-packages (from -r requirements.txt (line 8)) (4.66.1)\n",
      "Requirement already satisfied: wikipedia in /opt/homebrew/Caskroom/miniconda/base/envs/bot-test/lib/python3.11/site-packages (from -r requirements.txt (line 9)) (1.4.0)\n",
      "Requirement already satisfied: arxiv in /opt/homebrew/Caskroom/miniconda/base/envs/bot-test/lib/python3.11/site-packages (from -r requirements.txt (line 10)) (1.4.8)\n",
      "Requirement already satisfied: PyYAML>=5.3 in /opt/homebrew/Caskroom/miniconda/base/envs/bot-test/lib/python3.11/site-packages (from langchain->-r requirements.txt (line 1)) (6.0.1)\n",
      "Requirement already satisfied: SQLAlchemy<3,>=1.4 in /opt/homebrew/Caskroom/miniconda/base/envs/bot-test/lib/python3.11/site-packages (from langchain->-r requirements.txt (line 1)) (2.0.20)\n",
      "Requirement already satisfied: aiohttp<4.0.0,>=3.8.3 in /opt/homebrew/Caskroom/miniconda/base/envs/bot-test/lib/python3.11/site-packages (from langchain->-r requirements.txt (line 1)) (3.8.5)\n",
      "Requirement already satisfied: dataclasses-json<0.6.0,>=0.5.7 in /opt/homebrew/Caskroom/miniconda/base/envs/bot-test/lib/python3.11/site-packages (from langchain->-r requirements.txt (line 1)) (0.5.14)\n",
      "Requirement already satisfied: langsmith<0.1.0,>=0.0.21 in /opt/homebrew/Caskroom/miniconda/base/envs/bot-test/lib/python3.11/site-packages (from langchain->-r requirements.txt (line 1)) (0.0.33)\n",
      "Requirement already satisfied: numexpr<3.0.0,>=2.8.4 in /opt/homebrew/Caskroom/miniconda/base/envs/bot-test/lib/python3.11/site-packages (from langchain->-r requirements.txt (line 1)) (2.8.5)\n",
      "Requirement already satisfied: numpy<2,>=1 in /opt/homebrew/Caskroom/miniconda/base/envs/bot-test/lib/python3.11/site-packages (from langchain->-r requirements.txt (line 1)) (1.25.2)\n",
      "Requirement already satisfied: pydantic<3,>=1 in /opt/homebrew/Caskroom/miniconda/base/envs/bot-test/lib/python3.11/site-packages (from langchain->-r requirements.txt (line 1)) (1.10.12)\n",
      "Requirement already satisfied: requests<3,>=2 in /opt/homebrew/Caskroom/miniconda/base/envs/bot-test/lib/python3.11/site-packages (from langchain->-r requirements.txt (line 1)) (2.31.0)\n",
      "Requirement already satisfied: tenacity<9.0.0,>=8.1.0 in /opt/homebrew/Caskroom/miniconda/base/envs/bot-test/lib/python3.11/site-packages (from langchain->-r requirements.txt (line 1)) (8.2.3)\n",
      "Requirement already satisfied: beautifulsoup4 in /opt/homebrew/Caskroom/miniconda/base/envs/bot-test/lib/python3.11/site-packages (from wikipedia->-r requirements.txt (line 9)) (4.12.2)\n",
      "Requirement already satisfied: feedparser in /opt/homebrew/Caskroom/miniconda/base/envs/bot-test/lib/python3.11/site-packages (from arxiv->-r requirements.txt (line 10)) (6.0.10)\n",
      "Requirement already satisfied: attrs>=17.3.0 in /opt/homebrew/Caskroom/miniconda/base/envs/bot-test/lib/python3.11/site-packages (from aiohttp<4.0.0,>=3.8.3->langchain->-r requirements.txt (line 1)) (23.1.0)\n",
      "Requirement already satisfied: charset-normalizer<4.0,>=2.0 in /opt/homebrew/Caskroom/miniconda/base/envs/bot-test/lib/python3.11/site-packages (from aiohttp<4.0.0,>=3.8.3->langchain->-r requirements.txt (line 1)) (3.2.0)\n",
      "Requirement already satisfied: multidict<7.0,>=4.5 in /opt/homebrew/Caskroom/miniconda/base/envs/bot-test/lib/python3.11/site-packages (from aiohttp<4.0.0,>=3.8.3->langchain->-r requirements.txt (line 1)) (6.0.4)\n",
      "Requirement already satisfied: async-timeout<5.0,>=4.0.0a3 in /opt/homebrew/Caskroom/miniconda/base/envs/bot-test/lib/python3.11/site-packages (from aiohttp<4.0.0,>=3.8.3->langchain->-r requirements.txt (line 1)) (4.0.3)\n",
      "Requirement already satisfied: yarl<2.0,>=1.0 in /opt/homebrew/Caskroom/miniconda/base/envs/bot-test/lib/python3.11/site-packages (from aiohttp<4.0.0,>=3.8.3->langchain->-r requirements.txt (line 1)) (1.9.2)\n",
      "Requirement already satisfied: frozenlist>=1.1.1 in /opt/homebrew/Caskroom/miniconda/base/envs/bot-test/lib/python3.11/site-packages (from aiohttp<4.0.0,>=3.8.3->langchain->-r requirements.txt (line 1)) (1.4.0)\n",
      "Requirement already satisfied: aiosignal>=1.1.2 in /opt/homebrew/Caskroom/miniconda/base/envs/bot-test/lib/python3.11/site-packages (from aiohttp<4.0.0,>=3.8.3->langchain->-r requirements.txt (line 1)) (1.3.1)\n",
      "Requirement already satisfied: marshmallow<4.0.0,>=3.18.0 in /opt/homebrew/Caskroom/miniconda/base/envs/bot-test/lib/python3.11/site-packages (from dataclasses-json<0.6.0,>=0.5.7->langchain->-r requirements.txt (line 1)) (3.20.1)\n",
      "Requirement already satisfied: typing-inspect<1,>=0.4.0 in /opt/homebrew/Caskroom/miniconda/base/envs/bot-test/lib/python3.11/site-packages (from dataclasses-json<0.6.0,>=0.5.7->langchain->-r requirements.txt (line 1)) (0.9.0)\n",
      "Requirement already satisfied: typing-extensions>=4.2.0 in /opt/homebrew/Caskroom/miniconda/base/envs/bot-test/lib/python3.11/site-packages (from pydantic<3,>=1->langchain->-r requirements.txt (line 1)) (4.7.1)\n",
      "Requirement already satisfied: idna<4,>=2.5 in /opt/homebrew/Caskroom/miniconda/base/envs/bot-test/lib/python3.11/site-packages (from requests<3,>=2->langchain->-r requirements.txt (line 1)) (3.4)\n",
      "Requirement already satisfied: urllib3<3,>=1.21.1 in /opt/homebrew/Caskroom/miniconda/base/envs/bot-test/lib/python3.11/site-packages (from requests<3,>=2->langchain->-r requirements.txt (line 1)) (2.0.4)\n",
      "Requirement already satisfied: certifi>=2017.4.17 in /opt/homebrew/Caskroom/miniconda/base/envs/bot-test/lib/python3.11/site-packages (from requests<3,>=2->langchain->-r requirements.txt (line 1)) (2023.7.22)\n",
      "Requirement already satisfied: soupsieve>1.2 in /opt/homebrew/Caskroom/miniconda/base/envs/bot-test/lib/python3.11/site-packages (from beautifulsoup4->wikipedia->-r requirements.txt (line 9)) (2.5)\n",
      "Requirement already satisfied: sgmllib3k in /opt/homebrew/Caskroom/miniconda/base/envs/bot-test/lib/python3.11/site-packages (from feedparser->arxiv->-r requirements.txt (line 10)) (1.0.0)\n",
      "Requirement already satisfied: packaging>=17.0 in /opt/homebrew/Caskroom/miniconda/base/envs/bot-test/lib/python3.11/site-packages (from marshmallow<4.0.0,>=3.18.0->dataclasses-json<0.6.0,>=0.5.7->langchain->-r requirements.txt (line 1)) (23.1)\n",
      "Requirement already satisfied: mypy-extensions>=0.3.0 in /opt/homebrew/Caskroom/miniconda/base/envs/bot-test/lib/python3.11/site-packages (from typing-inspect<1,>=0.4.0->dataclasses-json<0.6.0,>=0.5.7->langchain->-r requirements.txt (line 1)) (1.0.0)\n",
      "Note: you may need to restart the kernel to use updated packages.\n"
     ]
    }
   ],
   "source": [
    "%pip install -r requirements.txt"
   ]
  },
  {
   "cell_type": "markdown",
   "id": "e9ab7ed6-9ab1-449c-bd8d-26da0422472b",
   "metadata": {},
   "source": [
    "Import langchains adaptor to openai, the prompttemplate interface and llmchain support - and get the api key from the .env file. "
   ]
  },
  {
   "cell_type": "code",
   "execution_count": 4,
   "id": "9c066b0f-3a32-457b-a73f-471b4c74e9c4",
   "metadata": {},
   "outputs": [
    {
     "data": {
      "text/plain": [
       "True"
      ]
     },
     "execution_count": 4,
     "metadata": {},
     "output_type": "execute_result"
    }
   ],
   "source": [
    "from dotenv import load_dotenv\n",
    "from langchain.llms import OpenAI\n",
    "from langchain.prompts import PromptTemplate\n",
    "from langchain.chains import LLMChain\n",
    "\n",
    "load_dotenv()"
   ]
  },
  {
   "cell_type": "markdown",
   "id": "cc660189-9ee6-45b6-80f6-95abcdf0b145",
   "metadata": {},
   "source": [
    "Let OpenAi predict what should come next."
   ]
  },
  {
   "cell_type": "code",
   "execution_count": 12,
   "id": "3ac177b4-e0fa-460a-9a79-d7c6cc7bb8c8",
   "metadata": {},
   "outputs": [
    {
     "data": {
      "text/plain": [
       "\"\\n\\nMunich is a vibrant city with a charming atmosphere full of essential tourist attractions like the English Garden, Marienplatz Square and BMW World. Furthermore, the city is also renowned for its historic biergartens, which comprise a key part of the city's cultural heritage.\""
      ]
     },
     "execution_count": 12,
     "metadata": {},
     "output_type": "execute_result"
    }
   ],
   "source": [
    "llm = OpenAI()\n",
    "llm.predict(\"Hi OpenAI! Tell me the best things about munich in two sentences!\")"
   ]
  },
  {
   "cell_type": "raw",
   "id": "de8b3a81-a232-48e2-bdc4-0b5ceee5ad13",
   "metadata": {},
   "source": [
    "PromptTemplates are a - quite simple - abstraction to merge variables and allows prompt repositories like langchain hub."
   ]
  },
  {
   "cell_type": "code",
   "execution_count": 9,
   "id": "3fd72dfa-3212-4b4a-a9b3-a2993c9c0b68",
   "metadata": {},
   "outputs": [
    {
     "name": "stdout",
     "output_type": "stream",
     "text": [
      "\n",
      "\n",
      "I enjoy serving customers from Laim because they are always friendly and appreciative of my hospitality. They often have interesting stories to tell, which makes my job more enjoyable.\n"
     ]
    }
   ],
   "source": [
    "prompt = PromptTemplate(\n",
    "    input_variables=[\"district\", \"job\"],\n",
    "    template=\"You are a {job} from Munich. Explain in two sentences why you like customers from {district} most.\",\n",
    ")\n",
    "\n",
    "chain = LLMChain(llm=llm, prompt=prompt)\n",
    "\n",
    "print(chain.run({\n",
    "    'job': \"barkeeper\",\n",
    "    'district': \"Laim\"\n",
    "    }))\n"
   ]
  },
  {
   "cell_type": "markdown",
   "id": "a71f18e1-6ed7-4f05-a47f-ba552f8b39f2",
   "metadata": {},
   "source": [
    "Just go ahead and play a bit."
   ]
  },
  {
   "cell_type": "code",
   "execution_count": 14,
   "id": "9186897d-df7a-4149-afd3-510ebdd911e4",
   "metadata": {},
   "outputs": [
    {
     "name": "stdout",
     "output_type": "stream",
     "text": [
      "\n",
      "\n",
      "I enjoy working with customers from Schwabing because they are typically friendly and easy to communicate with. They also appreciate the care and attention I give them, which makes me feel valued as a nurse.\n"
     ]
    }
   ],
   "source": [
    "print(chain.run({\n",
    "    'job': \"nurse\",\n",
    "    'district': \"Schwabing\"\n",
    "    }))"
   ]
  },
  {
   "cell_type": "markdown",
   "id": "e47e5329",
   "metadata": {},
   "source": [
    "Now to few-shot prompting:"
   ]
  },
  {
   "cell_type": "code",
   "execution_count": 15,
   "id": "26cecad2",
   "metadata": {},
   "outputs": [
    {
     "ename": "ValidationError",
     "evalue": "1 validation error for PromptTemplate\n__root__\n  Invalid prompt schema; check for mismatched or missing input parameters. {'letter', 'sentence'} (type=value_error)",
     "output_type": "error",
     "traceback": [
      "\u001b[0;31m---------------------------------------------------------------------------\u001b[0m",
      "\u001b[0;31mValidationError\u001b[0m                           Traceback (most recent call last)",
      "\u001b[1;32m/Users/maxtharr/mayday/ai/langchain-demo/1_langchain_basics.ipynb Cell 12\u001b[0m line \u001b[0;36m1\n\u001b[0;32m----> <a href='vscode-notebook-cell:/Users/maxtharr/mayday/ai/langchain-demo/1_langchain_basics.ipynb#X15sZmlsZQ%3D%3D?line=0'>1</a>\u001b[0m prompt \u001b[39m=\u001b[39m PromptTemplate(\n\u001b[1;32m      <a href='vscode-notebook-cell:/Users/maxtharr/mayday/ai/langchain-demo/1_langchain_basics.ipynb#X15sZmlsZQ%3D%3D?line=1'>2</a>\u001b[0m     input_variables\u001b[39m=\u001b[39;49m[\u001b[39m\"\u001b[39;49m\u001b[39mletter\u001b[39;49m\u001b[39m\"\u001b[39;49m,\u001b[39m\"\u001b[39;49m\u001b[39msentence\u001b[39;49m\u001b[39m\"\u001b[39;49m],\n\u001b[1;32m      <a href='vscode-notebook-cell:/Users/maxtharr/mayday/ai/langchain-demo/1_langchain_basics.ipynb#X15sZmlsZQ%3D%3D?line=2'>3</a>\u001b[0m     template\u001b[39m=\u001b[39;49m\u001b[39m\"\u001b[39;49m\u001b[39mYou are an AI for converting sentences to alliterations. You pick a letter and make a whole sentence start with that letter.\u001b[39;49m\u001b[39m\"\u001b[39;49m,\n\u001b[1;32m      <a href='vscode-notebook-cell:/Users/maxtharr/mayday/ai/langchain-demo/1_langchain_basics.ipynb#X15sZmlsZQ%3D%3D?line=3'>4</a>\u001b[0m )\n",
      "File \u001b[0;32m/opt/homebrew/Caskroom/miniconda/base/envs/bot-test/lib/python3.11/site-packages/langchain/load/serializable.py:75\u001b[0m, in \u001b[0;36mSerializable.__init__\u001b[0;34m(self, **kwargs)\u001b[0m\n\u001b[1;32m     74\u001b[0m \u001b[39mdef\u001b[39;00m \u001b[39m__init__\u001b[39m(\u001b[39mself\u001b[39m, \u001b[39m*\u001b[39m\u001b[39m*\u001b[39mkwargs: Any) \u001b[39m-\u001b[39m\u001b[39m>\u001b[39m \u001b[39mNone\u001b[39;00m:\n\u001b[0;32m---> 75\u001b[0m     \u001b[39msuper\u001b[39;49m()\u001b[39m.\u001b[39;49m\u001b[39m__init__\u001b[39;49m(\u001b[39m*\u001b[39;49m\u001b[39m*\u001b[39;49mkwargs)\n\u001b[1;32m     76\u001b[0m     \u001b[39mself\u001b[39m\u001b[39m.\u001b[39m_lc_kwargs \u001b[39m=\u001b[39m kwargs\n",
      "File \u001b[0;32m/opt/homebrew/Caskroom/miniconda/base/envs/bot-test/lib/python3.11/site-packages/pydantic/main.py:341\u001b[0m, in \u001b[0;36mpydantic.main.BaseModel.__init__\u001b[0;34m()\u001b[0m\n",
      "\u001b[0;31mValidationError\u001b[0m: 1 validation error for PromptTemplate\n__root__\n  Invalid prompt schema; check for mismatched or missing input parameters. {'letter', 'sentence'} (type=value_error)"
     ]
    }
   ],
   "source": [
    "prompt = PromptTemplate(\n",
    "    input_variables=[\"letter\",\"sentence\"],\n",
    "    template=\"\"\"You are an AI for converting sentences to alliterations. You pick a letter and make a whole sentence start with that letter.\n",
    "    Letter: A\n",
    "    Sentence: \"My new horse is very fast!\"\n",
    "    Output: \"All amazing animals are always astonishingly agile.\"\n",
    "    Letter: {letter}\n",
    "    Sentence: {sentence}\n",
    "    Output:\n",
    "    \"\"\",\n",
    ")\n",
    "\n",
    "llm = OpenAI(temperature=1.5)\n",
    "\n",
    "chain = LLMChain(llm=llm, prompt=prompt)\n",
    "\n",
    "print(chain.run({ 'letter': \"F\", 'sentence': \"\"}))\n"
   ]
  },
  {
   "cell_type": "code",
   "execution_count": null,
   "id": "da210f00",
   "metadata": {},
   "outputs": [],
   "source": []
  }
 ],
 "metadata": {
  "kernelspec": {
   "display_name": "Python 3 (ipykernel)",
   "language": "python",
   "name": "python3"
  },
  "language_info": {
   "codemirror_mode": {
    "name": "ipython",
    "version": 3
   },
   "file_extension": ".py",
   "mimetype": "text/x-python",
   "name": "python",
   "nbconvert_exporter": "python",
   "pygments_lexer": "ipython3",
   "version": "3.11.4"
  }
 },
 "nbformat": 4,
 "nbformat_minor": 5
}
