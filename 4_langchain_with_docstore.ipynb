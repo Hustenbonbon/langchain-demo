{
 "cells": [
  {
   "cell_type": "markdown",
   "id": "5e095a2f-2b72-4ba8-b832-2ec162291162",
   "metadata": {},
   "source": [
    "# 🦜🔗 LangChain agent with docstore"
   ]
  },
  {
   "cell_type": "code",
   "execution_count": null,
   "id": "3a8c85a3-40f9-4ec9-b934-4ad408804bcd",
   "metadata": {
    "scrolled": true
   },
   "outputs": [],
   "source": [
    "!pip install -r requirements.txt"
   ]
  },
  {
   "cell_type": "code",
   "execution_count": null,
   "id": "781f2be3-fa34-48f9-ac51-a6316efb2b4b",
   "metadata": {},
   "outputs": [],
   "source": [
    "from langchain.text_splitter import CharacterTextSplitter\n",
    "from langchain.vectorstores import FAISS\n",
    "from langchain.embeddings import OpenAIEmbeddings\n",
    "from langchain.agents.agent_toolkits import create_retriever_tool\n",
    "from langchain.agents.agent_toolkits import create_conversational_retrieval_agent\n",
    "from langchain.chat_models import ChatOpenAI\n",
    "from langchain.document_loaders import PyPDFLoader\n",
    "from dotenv import load_dotenv\n",
    "\n",
    "load_dotenv()\n"
   ]
  },
  {
   "cell_type": "code",
   "execution_count": null,
   "id": "f233aca1-34e3-4b00-873d-1f7dae6324a7",
   "metadata": {},
   "outputs": [],
   "source": [
    "loader = PyPDFLoader(\"langchain.pdf\")\n",
    "texts = loader.load_and_split()\n",
    "embeddings = OpenAIEmbeddings()\n",
    "db = FAISS.from_documents(texts, embeddings)\n",
    "db.save_local(\"./vectorstore\")"
   ]
  },
  {
   "cell_type": "code",
   "execution_count": null,
   "id": "5bce2d53-f548-489b-af2f-6c7e928967cf",
   "metadata": {},
   "outputs": [],
   "source": [
    "embeddings = OpenAIEmbeddings()\n",
    "db = FAISS.load_local(\"./vectorstore\", embeddings)\n",
    "retriever = db.as_retriever()\n",
    "llm = ChatOpenAI(temperature = 0)\n",
    "tool = create_retriever_tool(\n",
    "    retriever, \n",
    "    \"search_langchain\",\n",
    "    \"Searches and returns information about langchain and vectorstores.\"\n",
    ")\n",
    "tools = [tool]"
   ]
  },
  {
   "cell_type": "code",
   "execution_count": null,
   "id": "87870039-bffc-4420-a2e8-01efc5dbd311",
   "metadata": {},
   "outputs": [],
   "source": [
    "agent_executor = create_conversational_retrieval_agent(llm, tools, verbose=True)"
   ]
  },
  {
   "cell_type": "code",
   "execution_count": null,
   "id": "38dc38bb-1ec6-4b0f-8881-8b385602822a",
   "metadata": {},
   "outputs": [],
   "source": [
    "result = agent_executor({\"input\": \"How do i use langchain with a vectorstore?\"})"
   ]
  },
  {
   "cell_type": "code",
   "execution_count": null,
   "id": "97d625e1-0758-49a4-9999-88c53f1500e0",
   "metadata": {},
   "outputs": [],
   "source": []
  }
 ],
 "metadata": {
  "kernelspec": {
   "display_name": "Python 3 (ipykernel)",
   "language": "python",
   "name": "python3"
  },
  "language_info": {
   "codemirror_mode": {
    "name": "ipython",
    "version": 3
   },
   "file_extension": ".py",
   "mimetype": "text/x-python",
   "name": "python",
   "nbconvert_exporter": "python",
   "pygments_lexer": "ipython3",
   "version": "3.11.5"
  }
 },
 "nbformat": 4,
 "nbformat_minor": 5
}
