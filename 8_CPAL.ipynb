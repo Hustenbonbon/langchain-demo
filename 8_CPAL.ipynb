{
 "cells": [
  {
   "cell_type": "markdown",
   "id": "b8d8c140-858a-4c70-b7b9-63f06a23c3a6",
   "metadata": {},
   "source": [
    "# 🦜🔗 LangChain Causal program-aided chain"
   ]
  },
  {
   "cell_type": "code",
   "execution_count": null,
   "id": "c10edb20-7051-4ffd-bd7c-30f33ed82cd2",
   "metadata": {
    "scrolled": true
   },
   "outputs": [],
   "source": [
    "%pip install -r requirements.txt"
   ]
  },
  {
   "cell_type": "code",
   "execution_count": null,
   "id": "09c904ee-dc1d-4d10-9075-33f11bfbc3ea",
   "metadata": {},
   "outputs": [],
   "source": [
    "%pip install duckdb networkx pandas"
   ]
  },
  {
   "cell_type": "code",
   "execution_count": null,
   "id": "223d22ae-67d4-400e-860b-af6fb9808da8",
   "metadata": {},
   "outputs": [],
   "source": [
    "from langchain_experimental.cpal.base import CPALChain\n",
    "from langchain import OpenAI\n",
    "from dotenv import load_dotenv\n",
    "\n",
    "load_dotenv()\n",
    "\n",
    "llm = OpenAI(temperature=0)"
   ]
  },
  {
   "cell_type": "code",
   "execution_count": null,
   "id": "554a360d-2d85-42f8-80d3-5369fc707e73",
   "metadata": {},
   "outputs": [],
   "source": [
    "cpal_chain = CPALChain.from_univariate_prompt(llm=llm, verbose=True)\n",
    "question = (\n",
    "    \"we went to the reeperbahn last night, and we drank a lot.\"\n",
    "    \"hinnerk had two more beer than fiete.\"\n",
    "    \"ole had even two more beer than hinnerk\"\n",
    "    \"fiete had five beer.\"\n",
    "    \"How many beer did ole have?\"\n",
    ")\n",
    "\n",
    "try:\n",
    "    result=cpal_chain.run(question)\n",
    "except Exception as e_msg:\n",
    "    print(e_msg)\n",
    "\n",
    "print(result)"
   ]
  },
  {
   "cell_type": "code",
   "execution_count": null,
   "id": "18efed03-eccf-45b3-a35a-a1809ec738f1",
   "metadata": {},
   "outputs": [],
   "source": [
    "cpal_chain = CPALChain.from_univariate_prompt(llm=llm, verbose=True)\n",
    "question = (\n",
    "    \"Jan has three times the number of pets as Marcia.\"\n",
    "    \"Marcia has two more pets than Cindy.\"\n",
    "    \"If Cindy has ten pets, how many pets does Barak have?\"\n",
    ")\n",
    "try:\n",
    "    cpal_chain.run(question)\n",
    "except Exception as e_msg:\n",
    "    print(e_msg)"
   ]
  }
 ],
 "metadata": {
  "kernelspec": {
   "display_name": "Python 3 (ipykernel)",
   "language": "python",
   "name": "python3"
  },
  "language_info": {
   "codemirror_mode": {
    "name": "ipython",
    "version": 3
   },
   "file_extension": ".py",
   "mimetype": "text/x-python",
   "name": "python",
   "nbconvert_exporter": "python",
   "pygments_lexer": "ipython3",
   "version": "3.11.5"
  }
 },
 "nbformat": 4,
 "nbformat_minor": 5
}
